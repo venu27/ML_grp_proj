{
 "cells": [
  {
   "cell_type": "code",
   "execution_count": 1,
   "id": "6e5e7413",
   "metadata": {},
   "outputs": [],
   "source": [
    "# Import modules\n",
    "\n",
    "import numpy as np\n",
    "import matplotlib.pyplot as plt\n",
    "import scipy.stats as stats\n",
    "import time\n",
    "import pandas as pd\n",
    "from tabulate import tabulate\n",
    "from tqdm import tqdm"
   ]
  },
  {
   "cell_type": "code",
   "execution_count": 2,
   "id": "4d55cd94",
   "metadata": {},
   "outputs": [],
   "source": [
    "# p(s|t), used in Q.4-Q.6\n",
    "def p_st(mu_s, covar_s, covar_ts, A, ATranspose, t):\n",
    "    \n",
    "    mu_sTranspose = mu_s[:,None]\n",
    "    covar_sInv = np.linalg.inv(covar_s)\n",
    "    \n",
    "    covar_st = np.linalg.inv(covar_sInv + (ATranspose * (1/covar_ts) * A))\n",
    "    mu_st = covar_st @ (covar_sInv @ mu_sTranspose + ATranspose * (1/covar_ts) *t)\n",
    "    \n",
    "    return stats.multivariate_normal.rvs(np.ravel(mu_st), covar_st)\n",
    "\n",
    "# p(t|s), truncated gaussian, used in Q.4-Q.6\n",
    "def p_ts(y, s1, s2, covar_s, covar_ts, A, ATranspose):\n",
    "    \n",
    "    # Player 1 wins\n",
    "    if y == 1:\n",
    "        ing1 = 0\n",
    "        ing2 = np.Inf\n",
    "        \n",
    "    # Player 2 wins\n",
    "    else:\n",
    "        ing1 = -np.Inf\n",
    "        ing2 = 0\n",
    "    \n",
    "    mu_t = s1 - s2\n",
    "    sigma_t  = np.sqrt(covar_ts +A @ covar_s @ ATranspose)\n",
    "    \n",
    "    return stats.truncnorm.rvs((ing1 - mu_t) / sigma_t, (ing2 - mu_t) / sigma_t, loc=mu_t, scale=sigma_t)\n",
    "\n",
    "# p(s), used in Q.4\n",
    "def p_s(x, mu, sigma):\n",
    "    \n",
    "    return stats.norm.pdf(x, mu, sigma)\n"
   ]
  },
  {
   "cell_type": "code",
   "execution_count": 3,
   "id": "ebb2f095",
   "metadata": {},
   "outputs": [],
   "source": [
    "# Gibbs sampler, used in Q.4-Q.6\n",
    "def gibbs(K, mu_s, cov_s, cov_ts, t0, burn_in=0, y=1):\n",
    "    \n",
    "    A = np.array([1, -1])\n",
    "    ATranspose = A[:,None]\n",
    "    \n",
    "    s1 = np.zeros(K)\n",
    "    s2 = np.zeros(K)\n",
    "    t = np.zeros(K)\n",
    "    \n",
    "    s1[0] = mu_s[0] \n",
    "    s2[0] = mu_s[1]\n",
    "    t[0] = t0\n",
    "\n",
    "    for k in range(K - 1):\n",
    "        \n",
    "        s1[k+1], s2[k+1] = p_st(mu_s, covar_s, covar_ts, A, ATranspose, t[k])\n",
    "        t[k+1] = p_ts(y, s1[k+1], s2[k+1], covar_s, covar_ts, A, ATranspose)\n",
    "        \n",
    "    return s1[burn_in::], s2[burn_in::], t[burn_in::]"
   ]
  },
  {
   "cell_type": "code",
   "execution_count": 4,
   "id": "1d3cba47",
   "metadata": {},
   "outputs": [
    {
     "ename": "SyntaxError",
     "evalue": "incomplete input (2081212655.py, line 4)",
     "output_type": "error",
     "traceback": [
      "\u001b[1;36m  Cell \u001b[1;32mIn[4], line 4\u001b[1;36m\u001b[0m\n\u001b[1;33m    \u001b[0m\n\u001b[1;37m    ^\u001b[0m\n\u001b[1;31mSyntaxError\u001b[0m\u001b[1;31m:\u001b[0m incomplete input\n"
     ]
    }
   ],
   "source": [
    "# Moment-matching, used in Q.8\n",
    "\n",
    "def moment_matching():\n",
    "    "
   ]
  },
  {
   "cell_type": "code",
   "execution_count": null,
   "id": "f5029fec",
   "metadata": {},
   "outputs": [],
   "source": [
    "def trueskillGaussDist(X, s1, s2):\n",
    "    \n",
    "    plt.plot(X, p_s(X, m_s2, var_s2), label=\"p(s1) and p(s2)\", linestyle=\"dashed\", color=\"orange\")\n",
    "    plt.plot(X, p_s(X, np.mean(s1), np.std(s1)), label=\"p(s1|y=1)\", color=\"blue\")\n",
    "    plt.plot(X, p_s(X, np.mean(s2),np.std(s2)), label=\"p(s2|y=1)\", color=\"purple\")\n",
    "    plt.legend()\n",
    "    plt.show()"
   ]
  },
  {
   "cell_type": "code",
   "execution_count": null,
   "id": "62cf4427",
   "metadata": {},
   "outputs": [],
   "source": [
    "Klist = [250, 500, 750, 1000, 2500, 5000]\n",
    "#Klist = [700, 750, 800, 850]\n",
    "burn_in = 40\n",
    "def performance_check(Kl, mu_s, covar_s, covar_ts, t0, burn_in):\n",
    "    \n",
    "    x = np.linspace(0, 50, 1000)\n",
    "    for k in Kl:\n",
    "        \n",
    "        t_start = time.perf_counter()\n",
    "        s1, s2, t = gibbs(k+burn_in, mu_s, covar_s, covar_ts, t0, burn_in)\n",
    "        t_stop = time.perf_counter()\n",
    "        \n",
    "        plt.plot(x, p_s(x, np.mean(s1), np.std(s1)), label=\"S1 post\", color=\"red\")\n",
    "        plt.hist(s1,bins=30, density=True)\n",
    "        plt.title(\"K = {}, time = {:.2f}\".format(k, (t_stop - t_start)))\n",
    "        plt.show()\n",
    "        \n"
   ]
  },
  {
   "cell_type": "code",
   "execution_count": null,
   "id": "9c55ed87",
   "metadata": {},
   "outputs": [],
   "source": [
    "def dataPreprocesser(df, dataset='default'):\n",
    "    \n",
    "    # Create a new column for the result and filter the draws\n",
    "    if dataset=='default':\n",
    "        df['result'] = np.sign(df[\"score1\"] - df[\"score2\"])\n",
    "    elif dataset=='chess':\n",
    "        df.columns = ['team1','team2' ,'result']\n",
    "        df['result']=chess_df['result'].replace('1/2-1/2', 0).replace('1-0', 1).replace('0-1', -1)\n",
    "    df = df.loc[df['result'] != 0]\n",
    "    \n",
    "    df2 = pd.DataFrame()\n",
    "    df2[\"club\"] = df[\"team1\"].append(df[\"team2\"]).unique()\n",
    "    df2[\"win\"], df2[\"loss\"], df2[\"mean\"], df2[\"variance\"] = 0, 0, 25, 25/3\n",
    "    \n",
    "    for i, row in df.iterrows():\n",
    "        if row[\"result\"] == 1:\n",
    "            df2.loc[df2[\"club\"] == row[\"team1\"], \"win\"] += 1\n",
    "            df2.loc[df2[\"club\"] == row[\"team2\"], \"loss\"] += 1\n",
    "        elif row[\"result\"] == -1:\n",
    "            df2.loc[df2[\"club\"] == row[\"team2\"], \"win\"] += 1\n",
    "            df2.loc[df2[\"club\"] == row[\"team1\"], \"loss\"] += 1\n",
    "        else:\n",
    "            print(\"Dataframe contains draws.\")\n",
    "\n",
    "    return df, df2\n",
    "    \n"
   ]
  },
  {
   "cell_type": "code",
   "execution_count": null,
   "id": "a7733f91",
   "metadata": {},
   "outputs": [],
   "source": [
    "# Q.4 Gibbs sampler, one case where y = 1\n",
    "\n",
    "# Same hyperparameters for p(s1) and p(s2)\n",
    "# Default hyperparameter values are from \"trueskill.org\"\n",
    "m_s1 = 25\n",
    "m_s2 = 25\n",
    "mu_s = np.array([m_s1, m_s2])\n",
    "var_s1 = 25/3\n",
    "var_s2 = 25/3\n",
    "covar_s = np.array([[var_s1, 0], [0, var_s2]])\n",
    "covar_ts = 5\n",
    "t0 = 3\n",
    "\n",
    "# Set number of iterations\n",
    "K = 1000\n",
    "\n",
    "# Q.4 a) Burn in = 40\n",
    "burn_in = 40\n",
    "\n",
    "# Perform Gibbs sampling (y=1)\n",
    "s1, s2, t = gibbs(K, mu_s, covar_s, covar_ts, t0, burn_in, 1)\n",
    "\n",
    "\n",
    "# plot the result\n",
    "kx = np.linspace(0, K-burn_in,K-burn_in)\n",
    "plt.plot(kx, s1, label=\"s1 samples\")\n",
    "plt.plot(kx, s2, label=\"s2 samples\")\n",
    "plt.plot(kx, t, label=\"t samples\")\n",
    "plt.legend()\n",
    "plt.show()\n",
    "print(f'S1 -> Mean: {np.mean(s1)}, Variance: {np.var(s1)}\\nS2 -> Mean: {np.mean(s2)}, Variance: {np.var(s2)}')\n",
    "\n",
    "# Q.4 b) and d) They look good. p(s1) have an increased mean while the opposite happened to p(s2), this is because\n",
    "# the initial condition was that y=1, player 1 won, thus that players skill level must increase more than s2.\n",
    "xx = np.linspace(0, 50, 1000)    \n",
    "trueskillGaussDist(xx ,s1, s2)\n",
    "\n",
    "# Q.4 c) k= 750 was choosen because most of the sample values were in the Gaussian distribution and still had\n",
    "# a good computational time, increasing the k to 1000 didn't make an enough of a difference in accuracy to justify the\n",
    "# increase int computational time.\n",
    "performance_check(Klist, mu_s, covar_s, covar_ts, 10, burn_in)"
   ]
  },
  {
   "cell_type": "code",
   "execution_count": null,
   "id": "0ee3785d",
   "metadata": {},
   "outputs": [],
   "source": []
  },
  {
   "cell_type": "code",
   "execution_count": null,
   "id": "d370f4a6",
   "metadata": {},
   "outputs": [],
   "source": [
    "# Used for Q.5 and Q.6\n",
    "\n",
    "def assume_density(df, K, burn_in, shuffle=False, one_step_predict=False, dataset='default'):\n",
    "    \n",
    "    # Preprocess the dataframe\n",
    "    df, clublist = dataPreprocesser(df, dataset)\n",
    "    \n",
    "    # Shuffle the data randomly (if toggled on)\n",
    "    if shuffle:\n",
    "        df = df.sample(frac=1, random_state=np.random.RandomState())\n",
    "        \n",
    "    # Initiate variables (if toggled on)\n",
    "    total_predictions = df.shape[0]\n",
    "    correct_prediction = 0\n",
    "\n",
    "    # Iterate through all matches\n",
    "    for i, row in tqdm(df.iterrows()):\n",
    " \n",
    "        # Set hyperparameters (default values from trueskill.org)\n",
    "        m_s1 = float(clublist.loc[clublist[\"club\"] == row[\"team1\"],\"mean\"])\n",
    "        m_s2 = float(clublist.loc[clublist[\"club\"] == row[\"team2\"],\"mean\"])\n",
    "        mu_s = np.array([m_s1, m_s2])  \n",
    "        var_s1 = float(clublist.loc[clublist[\"club\"] == row[\"team1\"],\"variance\"])\n",
    "        var_s2 = float(clublist.loc[clublist[\"club\"] == row[\"team2\"],\"variance\"])\n",
    "        covar_s = np.array([[var_s1, 0], [0, var_s2]])\n",
    "        covar_ts = 25/3\n",
    "        t0 = 30\n",
    "        \n",
    "        # Predict result (if toggled on)\n",
    "        if one_step_predict:\n",
    "            prediction = np.sign(m_s1 - m_s2)\n",
    "            correct_prediction += (prediction == row[\"result\"])\n",
    "            \n",
    "        # Perform Gibbs sampling\n",
    "        s1, s2, t = gibbs(K, mu_s, covar_s, covar_ts, t0, burn_in, row[\"result\"])\n",
    "      \n",
    "        # Update hyperparameters\n",
    "        clublist.loc[clublist[\"club\"] == row[\"team1\"],\"mean\"] = np.mean(s1)\n",
    "        clublist.loc[clublist[\"club\"] == row[\"team2\"],\"mean\"] = np.mean(s2)\n",
    "        clublist.loc[clublist[\"club\"] == row[\"team1\"],\"variance\"] = np.var(s1)\n",
    "        clublist.loc[clublist[\"club\"] == row[\"team2\"],\"variance\"] = np.var(s2)\n",
    "    \n",
    "    # Print results\n",
    "    print(tabulate(clublist.sort_values(by=\"win\", ascending=False), headers=\"keys\", tablefmt=\"psql\"))\n",
    "    print(f'Correct predictions:\\t{correct_prediction}\\nTotal predictions:\\t{total_predictions}\\nPrediction rate (r):\\t{correct_prediction / total_predictions}')\n",
    "\n",
    "\n"
   ]
  },
  {
   "cell_type": "code",
   "execution_count": null,
   "id": "f993b9dc",
   "metadata": {},
   "outputs": [],
   "source": [
    "df = pd.read_csv(\"SerieA.csv\")\n",
    "K = 750\n",
    "burn_in = 40    \n",
    "    \n",
    "assume_density(df, K, burn_in, True, True)"
   ]
  },
  {
   "cell_type": "code",
   "execution_count": null,
   "id": "4385e35e",
   "metadata": {},
   "outputs": [],
   "source": [
    "#"
   ]
  },
  {
   "cell_type": "code",
   "execution_count": null,
   "id": "84ac3b3e",
   "metadata": {},
   "outputs": [],
   "source": []
  },
  {
   "cell_type": "code",
   "execution_count": null,
   "id": "e11bb576",
   "metadata": {},
   "outputs": [],
   "source": []
  },
  {
   "cell_type": "code",
   "execution_count": null,
   "id": "632a890e",
   "metadata": {},
   "outputs": [],
   "source": []
  },
  {
   "cell_type": "code",
   "execution_count": null,
   "id": "9c8d0d63",
   "metadata": {},
   "outputs": [],
   "source": [
    "# Task 9. Dataset of chess championship\n",
    "\n",
    "chess_df  = pd.read_csv('chess_wc_history_game_info.csv')[['white', 'black', 'result']]\n",
    "chess_df\n"
   ]
  },
  {
   "cell_type": "code",
   "execution_count": null,
   "id": "0088cdf4",
   "metadata": {},
   "outputs": [],
   "source": [
    "K = 750\n",
    "burn_in = 40   \n",
    "assume_density(chess_df, K, burn_in, True, True, dataset = 'chess')\n",
    "\n"
   ]
  },
  {
   "cell_type": "code",
   "execution_count": null,
   "id": "fefff42c",
   "metadata": {},
   "outputs": [],
   "source": []
  }
 ],
 "metadata": {
  "kernelspec": {
   "display_name": "Python 3 (ipykernel)",
   "language": "python",
   "name": "python3"
  },
  "language_info": {
   "codemirror_mode": {
    "name": "ipython",
    "version": 3
   },
   "file_extension": ".py",
   "mimetype": "text/x-python",
   "name": "python",
   "nbconvert_exporter": "python",
   "pygments_lexer": "ipython3",
   "version": "3.10.9"
  }
 },
 "nbformat": 4,
 "nbformat_minor": 5
}
